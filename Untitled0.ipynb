{
 "metadata": {
  "name": "",
  "signature": "sha256:0e6a587b8028b412d7cf0df4e1237823fda219b9873fea59f41dbb011a39425d"
 },
 "nbformat": 3,
 "nbformat_minor": 0,
 "worksheets": []
}