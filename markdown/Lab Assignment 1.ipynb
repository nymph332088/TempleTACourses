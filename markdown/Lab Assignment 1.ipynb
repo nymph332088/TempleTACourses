{
 "metadata": {
  "name": "",
  "signature": "sha256:0599835dac6b8a1ebe90be54ed7230ab9ca4bf231508b4f776effa4705ef8e7d"
 },
 "nbformat": 3,
 "nbformat_minor": 0,
 "worksheets": [
  {
   "cells": [
    {
     "cell_type": "markdown",
     "metadata": {},
     "source": [
      "#Here's an example:\n",
      "##another example\n",
      "\n",
      "```\n",
      "function test() {\n",
      "  console.log(\"notice the blank line before this function?\");\n",
      "}\n",
      "```\n",
      "\n",
      "- [ ] a bigger project\n",
      "  - [ ] first subtask #1234\n",
      "  - [ ] follow up subtask #4321\n",
      "  - [ ] final subtask cc @mention\n",
      "- [ ] a separate task"
     ]
    },
    {
     "cell_type": "code",
     "collapsed": false,
     "input": [
      "function test() {\n",
      "  console.log(\"notice the blank line before this function?\");\n",
      "}"
     ],
     "language": "python",
     "metadata": {},
     "outputs": []
    }
   ],
   "metadata": {}
  }
 ]
}